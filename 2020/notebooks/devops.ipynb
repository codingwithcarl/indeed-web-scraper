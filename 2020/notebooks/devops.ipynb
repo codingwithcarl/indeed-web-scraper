{
  "nbformat": 4,
  "nbformat_minor": 0,
  "metadata": {
    "colab": {
      "name": "devops.ipynb",
      "provenance": []
    },
    "kernelspec": {
      "name": "python3",
      "display_name": "Python 3"
    }
  },
  "cells": [
    {
      "cell_type": "markdown",
      "metadata": {
        "id": "DAC02_zbCPu1",
        "colab_type": "text"
      },
      "source": [
        "# **DevOps Jobs in the Greater Philadelphia Area**\n",
        "\n",
        "## Objective\n",
        "Analyze the job postings to determine:\n",
        "\n",
        "1. Desired skills and experience.\n",
        "2. Payscale for DevOps in this area.\n",
        "3. What company has the most postings.\n",
        "4. Areas outside of the city with the most postings.\n",
        "5. Variations in job title.\n",
        "\n",
        "## Understanding the Column Data\n",
        "* Title: job title\n",
        "* Company: name of company\n",
        "* Salary: if a salary is listed, it is provided here\n",
        "* Description: the job description / details of position"
      ]
    },
    {
      "cell_type": "markdown",
      "metadata": {
        "id": "FornK3XECaoS",
        "colab_type": "text"
      },
      "source": [
        "## **Code**"
      ]
    },
    {
      "cell_type": "markdown",
      "metadata": {
        "id": "iCdD4xVMCc_B",
        "colab_type": "text"
      },
      "source": [
        "### Dataset"
      ]
    },
    {
      "cell_type": "code",
      "metadata": {
        "id": "EIVy0MxgCL-R",
        "colab_type": "code",
        "colab": {
          "base_uri": "https://localhost:8080/",
          "height": 122
        },
        "outputId": "3c2e20cd-f0b2-4b4a-eae2-8fc58e486b59"
      },
      "source": [
        "from google.colab import drive\n",
        "drive.mount('/content/drive')"
      ],
      "execution_count": 1,
      "outputs": [
        {
          "output_type": "stream",
          "text": [
            "Go to this URL in a browser: https://accounts.google.com/o/oauth2/auth?client_id=947318989803-6bn6qk8qdgf4n4g3pfee6491hc0brc4i.apps.googleusercontent.com&redirect_uri=urn%3aietf%3awg%3aoauth%3a2.0%3aoob&response_type=code&scope=email%20https%3a%2f%2fwww.googleapis.com%2fauth%2fdocs.test%20https%3a%2f%2fwww.googleapis.com%2fauth%2fdrive%20https%3a%2f%2fwww.googleapis.com%2fauth%2fdrive.photos.readonly%20https%3a%2f%2fwww.googleapis.com%2fauth%2fpeopleapi.readonly\n",
            "\n",
            "Enter your authorization code:\n",
            "··········\n",
            "Mounted at /content/drive\n"
          ],
          "name": "stdout"
        }
      ]
    },
    {
      "cell_type": "code",
      "metadata": {
        "id": "rIZbUJsaCgp5",
        "colab_type": "code",
        "colab": {
          "base_uri": "https://localhost:8080/",
          "height": 102
        },
        "outputId": "5b85e168-ec5f-4688-bc3a-94f54d8cbc48"
      },
      "source": [
        "import pandas as pd\n",
        "import numpy as np\n",
        "import matplotlib.pyplot as plt\n",
        "import nltk\n",
        "from nltk import word_tokenize\n",
        "from nltk.corpus import stopwords\n",
        "from collections import Counter\n",
        "\n",
        "nltk.download('stopwords')\n",
        "nltk.download('punkt')"
      ],
      "execution_count": 2,
      "outputs": [
        {
          "output_type": "stream",
          "text": [
            "[nltk_data] Downloading package stopwords to /root/nltk_data...\n",
            "[nltk_data]   Unzipping corpora/stopwords.zip.\n",
            "[nltk_data] Downloading package punkt to /root/nltk_data...\n",
            "[nltk_data]   Unzipping tokenizers/punkt.zip.\n"
          ],
          "name": "stdout"
        },
        {
          "output_type": "execute_result",
          "data": {
            "text/plain": [
              "True"
            ]
          },
          "metadata": {
            "tags": []
          },
          "execution_count": 2
        }
      ]
    },
    {
      "cell_type": "code",
      "metadata": {
        "id": "msxHZ9m5Cjvp",
        "colab_type": "code",
        "colab": {
          "base_uri": "https://localhost:8080/",
          "height": 289
        },
        "outputId": "09b7c36a-4166-4948-b377-ab7c3d72b441"
      },
      "source": [
        "csv = '/content/drive/My Drive/datasets/indeed/devops.csv'\n",
        "df = pd.read_csv(csv)\n",
        "df.head()"
      ],
      "execution_count": 3,
      "outputs": [
        {
          "output_type": "execute_result",
          "data": {
            "text/html": [
              "<div>\n",
              "<style scoped>\n",
              "    .dataframe tbody tr th:only-of-type {\n",
              "        vertical-align: middle;\n",
              "    }\n",
              "\n",
              "    .dataframe tbody tr th {\n",
              "        vertical-align: top;\n",
              "    }\n",
              "\n",
              "    .dataframe thead th {\n",
              "        text-align: right;\n",
              "    }\n",
              "</style>\n",
              "<table border=\"1\" class=\"dataframe\">\n",
              "  <thead>\n",
              "    <tr style=\"text-align: right;\">\n",
              "      <th></th>\n",
              "      <th>Title</th>\n",
              "      <th>Company</th>\n",
              "      <th>Location</th>\n",
              "      <th>Salary</th>\n",
              "      <th>Description</th>\n",
              "    </tr>\n",
              "  </thead>\n",
              "  <tbody>\n",
              "    <tr>\n",
              "      <th>0</th>\n",
              "      <td>DevOps/ Cloud Engineer</td>\n",
              "      <td>Market Resource Partners (MRP)</td>\n",
              "      <td>Philadelphia, PA 19103 (Rittenhouse area)</td>\n",
              "      <td>None</td>\n",
              "      <td>At MRP we know it’s crucial that our people re...</td>\n",
              "    </tr>\n",
              "    <tr>\n",
              "      <th>1</th>\n",
              "      <td>DevOps Developer</td>\n",
              "      <td>RemX</td>\n",
              "      <td>King of Prussia, PA 19406</td>\n",
              "      <td>None</td>\n",
              "      <td>Our client has an immediate need for a DevOps ...</td>\n",
              "    </tr>\n",
              "    <tr>\n",
              "      <th>2</th>\n",
              "      <td>Sr. Cloud/ DevOps Engineer</td>\n",
              "      <td>eNGINE</td>\n",
              "      <td>Philadelphia, PA 19103 (Rittenhouse area)</td>\n",
              "      <td>$125,000 - $140,000 a year</td>\n",
              "      <td>eNGINE builds Technical Teams. We are a Soluti...</td>\n",
              "    </tr>\n",
              "    <tr>\n",
              "      <th>3</th>\n",
              "      <td>DevOps Engineer</td>\n",
              "      <td>Piper Companies</td>\n",
              "      <td>Philadelphia, PA</td>\n",
              "      <td>$125,000 - $140,000 a year</td>\n",
              "      <td>Piper Companies is looking for a DevOps Engine...</td>\n",
              "    </tr>\n",
              "    <tr>\n",
              "      <th>4</th>\n",
              "      <td>DevOps Specialist-</td>\n",
              "      <td>Munich Re America</td>\n",
              "      <td>Philadelphia, PA</td>\n",
              "      <td>None</td>\n",
              "      <td>We are adding to our diverse team of experts a...</td>\n",
              "    </tr>\n",
              "  </tbody>\n",
              "</table>\n",
              "</div>"
            ],
            "text/plain": [
              "                        Title  ...                                        Description\n",
              "0      DevOps/ Cloud Engineer  ...  At MRP we know it’s crucial that our people re...\n",
              "1            DevOps Developer  ...  Our client has an immediate need for a DevOps ...\n",
              "2  Sr. Cloud/ DevOps Engineer  ...  eNGINE builds Technical Teams. We are a Soluti...\n",
              "3             DevOps Engineer  ...  Piper Companies is looking for a DevOps Engine...\n",
              "4          DevOps Specialist-  ...  We are adding to our diverse team of experts a...\n",
              "\n",
              "[5 rows x 5 columns]"
            ]
          },
          "metadata": {
            "tags": []
          },
          "execution_count": 3
        }
      ]
    },
    {
      "cell_type": "markdown",
      "metadata": {
        "id": "k4zodYKqCrfW",
        "colab_type": "text"
      },
      "source": [
        "## Job Titles"
      ]
    },
    {
      "cell_type": "code",
      "metadata": {
        "id": "u7LznsqaC3bZ",
        "colab_type": "code",
        "colab": {
          "base_uri": "https://localhost:8080/",
          "height": 594
        },
        "outputId": "97d46832-c908-489c-b294-edc3165789f0"
      },
      "source": [
        "top_jobs = df.groupby(\"Title\").count()[\"Location\"].sort_values(ascending=False)[:20]\n",
        "top_jobs.plot(kind=\"bar\", figsize=(20,5))"
      ],
      "execution_count": 4,
      "outputs": [
        {
          "output_type": "execute_result",
          "data": {
            "text/plain": [
              "<matplotlib.axes._subplots.AxesSubplot at 0x7f476d388c88>"
            ]
          },
          "metadata": {
            "tags": []
          },
          "execution_count": 4
        },
        {
          "output_type": "display_data",
          "data": {
            "image/png": "[encoded data removed]",
            "text/plain": [
              "<Figure size 1440x360 with 1 Axes>"
            ]
          },
          "metadata": {
            "tags": [],
            "needs_background": "light"
          }
        }
      ]
    },
    {
      "cell_type": "markdown",
      "metadata": {
        "id": "Wc0IA7f-C6Up",
        "colab_type": "text"
      },
      "source": [
        "## Companies"
      ]
    },
    {
      "cell_type": "code",
      "metadata": {
        "id": "6d2T5zxIC8Lb",
        "colab_type": "code",
        "colab": {
          "base_uri": "https://localhost:8080/",
          "height": 379
        },
        "outputId": "10dba8b8-8bff-4389-e257-836e7b961a06"
      },
      "source": [
        "top_companies = df.groupby(\"Company\").count()[\"Title\"].sort_values(ascending=False)[:20]\n",
        "top_companies.plot(kind=\"bar\", figsize=(20,5))"
      ],
      "execution_count": 5,
      "outputs": [
        {
          "output_type": "execute_result",
          "data": {
            "text/plain": [
              "<matplotlib.axes._subplots.AxesSubplot at 0x7f476d28be48>"
            ]
          },
          "metadata": {
            "tags": []
          },
          "execution_count": 5
        },
        {
          "output_type": "display_data",
          "data": {
            "image/png": "[encoded data removed]",
            "text/plain": [
              "<Figure size 1440x360 with 1 Axes>"
            ]
          },
          "metadata": {
            "tags": [],
            "needs_background": "light"
          }
        }
      ]
    },
    {
      "cell_type": "markdown",
      "metadata": {
        "id": "HsJqPGV5C-1t",
        "colab_type": "text"
      },
      "source": [
        "## Locations"
      ]
    },
    {
      "cell_type": "code",
      "metadata": {
        "id": "fCONphHzDA23",
        "colab_type": "code",
        "colab": {
          "base_uri": "https://localhost:8080/",
          "height": 391
        },
        "outputId": "7cdcd96d-f8cd-4341-8c09-36ea302531d4"
      },
      "source": [
        "top_locations = df.groupby(\"Location\").count()[\"Title\"].sort_values(ascending=False)[:20]\n",
        "top_locations"
      ],
      "execution_count": 6,
      "outputs": [
        {
          "output_type": "execute_result",
          "data": {
            "text/plain": [
              "Location\n",
              "Philadelphia, PA                                  16\n",
              "Philadelphia, PA 19103 (Rittenhouse area)          5\n",
              "West Chester, PA                                   4\n",
              "Wilmington, DE                                     3\n",
              "Wayne, PA 19087                                    3\n",
              "Berwyn, PA                                         2\n",
              "Camden, NJ                                         2\n",
              "Camden, NJ 08103 (Central Waterfront area)         2\n",
              "Camden, NJ 08103 (Gateway area)                    2\n",
              "Collegeville, PA 19426                             2\n",
              "Horsham, PA                                        2\n",
              "King of Prussia, PA 19406                          2\n",
              "Mount Laurel, NJ 08054                             2\n",
              "Nether Providence Township, PA                     1\n",
              "Philadelphia, PA 19019 (Somerton area)             1\n",
              "Media, PA                                          1\n",
              "Malvern, PA                                        1\n",
              "Philadelphia, PA 19102 (City Center West area)     1\n",
              "Philadelphia, PA 19103 (Logan Square area)         1\n",
              "Conshohocken, PA 19428                             1\n",
              "Name: Title, dtype: int64"
            ]
          },
          "metadata": {
            "tags": []
          },
          "execution_count": 6
        }
      ]
    },
    {
      "cell_type": "markdown",
      "metadata": {
        "id": "Jx7geIY2DCed",
        "colab_type": "text"
      },
      "source": [
        "## Salary"
      ]
    },
    {
      "cell_type": "code",
      "metadata": {
        "id": "AHjFHbLIDEeR",
        "colab_type": "code",
        "colab": {
          "base_uri": "https://localhost:8080/",
          "height": 34
        },
        "outputId": "35ec6e16-0f80-4a2e-8b29-48bbe34268e2"
      },
      "source": [
        "def format_salary(row):\n",
        "    salary = row[\"Salary\"]\n",
        "    if \"-\" in salary:\n",
        "        split = salary.split(\"-\")\n",
        "        salary_min = split[0]\n",
        "        salary_max = split[1]\n",
        "    else:\n",
        "        salary_min = salary\n",
        "        salary_max = salary\n",
        "    \n",
        "    row[\"salary_min\"] = salary_min.replace(\"$\",\"\").replace(\"a month\",\"\").replace(\"a year\",\"\").replace(\",\",\"\")\n",
        "    row[\"salary_max\"] = salary_max.replace(\"\",\"\").replace(\"a month\",\"\").replace(\"a year\",\"\").replace(\",\",\"\")\n",
        "       \n",
        "    if \"month\" in row[\"Salary\"]:\n",
        "        row[\"salary_min\"] = int(row[\"salary_min\"])*12\n",
        "        row[\"salary_max\"] = int(row[\"salary_max\"])*12\n",
        "    \n",
        "   \n",
        "    return row\n",
        "\n",
        "\n",
        "df_salary = df[df[\"Salary\"]!= \"None\"].dropna()\n",
        "df_salary = df_salary.apply(format_salary,axis=1) \n",
        "\n",
        "df_salary[\"salary_min\"] = pd.to_numeric(df_salary[\"salary_min\"],'coerce')\n",
        "df_salary[\"salary_max\"] = pd.to_numeric(df_salary[\"salary_max\"],'coerce')\n",
        "\n",
        "df_salary[\"salary_min\"].mean()"
      ],
      "execution_count": 7,
      "outputs": [
        {
          "output_type": "execute_result",
          "data": {
            "text/plain": [
              "61453.71428571428"
            ]
          },
          "metadata": {
            "tags": []
          },
          "execution_count": 7
        }
      ]
    },
    {
      "cell_type": "code",
      "metadata": {
        "id": "mDhZ4t_qDF9o",
        "colab_type": "code",
        "colab": {
          "base_uri": "https://localhost:8080/",
          "height": 170
        },
        "outputId": "5991548e-89f7-4966-e5ab-3fd62cd46454"
      },
      "source": [
        "top_munnies = df.groupby(\"Salary\").count()[\"Title\"].sort_values(ascending=False)[:20]\n",
        "top_munnies"
      ],
      "execution_count": 8,
      "outputs": [
        {
          "output_type": "execute_result",
          "data": {
            "text/plain": [
              "Salary\n",
              "None                          55\n",
              "$125,000 - $140,000 a year     2\n",
              "$80,000 - $130,000 a year      1\n",
              "$71 - $87 an hour              1\n",
              "$55 - $60 an hour              1\n",
              "$50 - $65 an hour              1\n",
              "$100,000 - $140,000 a year     1\n",
              "Name: Title, dtype: int64"
            ]
          },
          "metadata": {
            "tags": []
          },
          "execution_count": 8
        }
      ]
    },
    {
      "cell_type": "markdown",
      "metadata": {
        "id": "GdQfGLuMDIew",
        "colab_type": "text"
      },
      "source": [
        "## Desired Experience"
      ]
    },
    {
      "cell_type": "code",
      "metadata": {
        "id": "ab0NwGB7DKeG",
        "colab_type": "code",
        "colab": {}
      },
      "source": [
        "def cleanData(desc):\n",
        "    desc = word_tokenize(desc)\n",
        "    desc = [word.lower() for word in desc]\n",
        "    desc = [word for word in desc if word not in stop_words]\n",
        "    return desc"
      ],
      "execution_count": 9,
      "outputs": []
    },
    {
      "cell_type": "code",
      "metadata": {
        "id": "Sqr2mct5DStP",
        "colab_type": "code",
        "colab": {}
      },
      "source": [
        "stop_words = stopwords.words('english')\n",
        "tags_df = df[\"Description\"].apply(cleanData)\n",
        "result = tags_df.apply(Counter).sum().items()\n",
        "result = sorted(result, key=lambda kv: kv[1],reverse=True)\n",
        "result_series = pd.Series({k: v for k, v in result})"
      ],
      "execution_count": 10,
      "outputs": []
    },
    {
      "cell_type": "markdown",
      "metadata": {
        "id": "uNXjMWT5DUEk",
        "colab_type": "text"
      },
      "source": [
        "### Cloud"
      ]
    },
    {
      "cell_type": "code",
      "metadata": {
        "id": "CjWa4V1IDWmU",
        "colab_type": "code",
        "colab": {
          "base_uri": "https://localhost:8080/",
          "height": 265
        },
        "outputId": "8f14dca7-976d-4cdf-81cc-de83ecc05586"
      },
      "source": [
        "skills = [\"aws\",\"azure\"]\n",
        "filter_series = result_series.filter(items=skills)\n",
        "filter_series.plot(kind='bar',figsize=(20,5))"
      ],
      "execution_count": 11,
      "outputs": [
        {
          "output_type": "execute_result",
          "data": {
            "text/plain": [
              "<matplotlib.axes._subplots.AxesSubplot at 0x7f476cd8e2e8>"
            ]
          },
          "metadata": {
            "tags": []
          },
          "execution_count": 11
        },
        {
          "output_type": "display_data",
          "data": {
            "image/png": "[encoded data removed]",
            "text/plain": [
              "<Figure size 1440x360 with 1 Axes>"
            ]
          },
          "metadata": {
            "tags": [],
            "needs_background": "light"
          }
        }
      ]
    },
    {
      "cell_type": "markdown",
      "metadata": {
        "id": "rO661kXeHIwl",
        "colab_type": "text"
      },
      "source": [
        "### Programming, Scripting, and Markup Languages"
      ]
    },
    {
      "cell_type": "code",
      "metadata": {
        "id": "ouF_DdVFHNqf",
        "colab_type": "code",
        "colab": {
          "base_uri": "https://localhost:8080/",
          "height": 283
        },
        "outputId": "161ed400-9da8-4cd0-add6-cc90f62df184"
      },
      "source": [
        "skills = [\"java\", \"javascript\", \"c#\", \"sql\", \"python\", \"css\", \"html\", \"c++\", \"php\", \"typescript\"]\n",
        "filter_series = result_series.filter(items=skills)\n",
        "filter_series.plot(kind='bar',figsize=(20,5))"
      ],
      "execution_count": 12,
      "outputs": [
        {
          "output_type": "execute_result",
          "data": {
            "text/plain": [
              "<matplotlib.axes._subplots.AxesSubplot at 0x7f476c963940>"
            ]
          },
          "metadata": {
            "tags": []
          },
          "execution_count": 12
        },
        {
          "output_type": "display_data",
          "data": {
            "image/png": "[encoded data removed]",
            "text/plain": [
              "<Figure size 1440x360 with 1 Axes>"
            ]
          },
          "metadata": {
            "tags": [],
            "needs_background": "light"
          }
        }
      ]
    },
    {
      "cell_type": "markdown",
      "metadata": {
        "id": "MYGFg2FUHTeV",
        "colab_type": "text"
      },
      "source": [
        "### Web Frameworks"
      ]
    },
    {
      "cell_type": "code",
      "metadata": {
        "id": "2XDQ62gwHU1h",
        "colab_type": "code",
        "colab": {
          "base_uri": "https://localhost:8080/",
          "height": 273
        },
        "outputId": "1b75d6cf-6c25-41a9-ffd1-f3946ae412ac"
      },
      "source": [
        "skills = [\"jquery\", \"react\", \"angular\", \"asp.net\", \"express\", \"vue\", \"spring\", \"flask\", \"django\", \"laravel\"]\n",
        "filter_series = result_series.filter(items=skills)\n",
        "filter_series.plot(kind='bar',figsize=(20,5))"
      ],
      "execution_count": 13,
      "outputs": [
        {
          "output_type": "execute_result",
          "data": {
            "text/plain": [
              "<matplotlib.axes._subplots.AxesSubplot at 0x7f476cd2a7f0>"
            ]
          },
          "metadata": {
            "tags": []
          },
          "execution_count": 13
        },
        {
          "output_type": "display_data",
          "data": {
            "image/png": "[encoded data removed]",
            "text/plain": [
              "<Figure size 1440x360 with 1 Axes>"
            ]
          },
          "metadata": {
            "tags": [],
            "needs_background": "light"
          }
        }
      ]
    },
    {
      "cell_type": "markdown",
      "metadata": {
        "id": "UXn57IDzH1Mr",
        "colab_type": "text"
      },
      "source": [
        "### Frameworks, Libraries, and Tools"
      ]
    },
    {
      "cell_type": "code",
      "metadata": {
        "id": "csot1sLlH2Sr",
        "colab_type": "code",
        "colab": {
          "base_uri": "https://localhost:8080/",
          "height": 273
        },
        "outputId": "42e31c93-43b7-417b-eb4c-daef9b6b2c2c"
      },
      "source": [
        "skills = [\"node.js\", \".net\", \"ansible\", \"teraform\", \"jenkins\"]\n",
        "filter_series = result_series.filter(items=skills)\n",
        "filter_series.plot(kind='bar',figsize=(20,5))"
      ],
      "execution_count": 19,
      "outputs": [
        {
          "output_type": "execute_result",
          "data": {
            "text/plain": [
              "<matplotlib.axes._subplots.AxesSubplot at 0x7f476c681b70>"
            ]
          },
          "metadata": {
            "tags": []
          },
          "execution_count": 19
        },
        {
          "output_type": "display_data",
          "data": {
            "image/png": "[encoded data removed]",
            "text/plain": [
              "<Figure size 1440x360 with 1 Axes>"
            ]
          },
          "metadata": {
            "tags": [],
            "needs_background": "light"
          }
        }
      ]
    },
    {
      "cell_type": "markdown",
      "metadata": {
        "id": "6XZ6g6uTIRcL",
        "colab_type": "text"
      },
      "source": [
        "### Databases"
      ]
    },
    {
      "cell_type": "code",
      "metadata": {
        "id": "AOk1fapQIV0R",
        "colab_type": "code",
        "colab": {
          "base_uri": "https://localhost:8080/",
          "height": 281
        },
        "outputId": "4d585dce-4763-4dac-f36e-e878f65869c8"
      },
      "source": [
        "skills = [\"mysql\", \"postgresql\", \"sqlite\", \"mongodb\", \"oracle\"]\n",
        "filter_series = result_series.filter(items=skills)\n",
        "filter_series.plot(kind='bar',figsize=(20,5))"
      ],
      "execution_count": 16,
      "outputs": [
        {
          "output_type": "execute_result",
          "data": {
            "text/plain": [
              "<matplotlib.axes._subplots.AxesSubplot at 0x7f476c76def0>"
            ]
          },
          "metadata": {
            "tags": []
          },
          "execution_count": 16
        },
        {
          "output_type": "display_data",
          "data": {
            "image/png": "[encoded data removed]",
            "text/plain": [
              "<Figure size 1440x360 with 1 Axes>"
            ]
          },
          "metadata": {
            "tags": [],
            "needs_background": "light"
          }
        }
      ]
    },
    {
      "cell_type": "markdown",
      "metadata": {
        "id": "jseH5hzXIcQf",
        "colab_type": "text"
      },
      "source": [
        "### Platforms"
      ]
    },
    {
      "cell_type": "code",
      "metadata": {
        "id": "NuYSkw1gIfMa",
        "colab_type": "code",
        "colab": {
          "base_uri": "https://localhost:8080/",
          "height": 278
        },
        "outputId": "7d0fdc3a-b760-4b3b-c1f8-2f6422dc244b"
      },
      "source": [
        "skills = [\"linux\", \"windows\", \"macos\", \"docker\"]\n",
        "filter_series = result_series.filter(items=skills)\n",
        "filter_series.plot(kind='bar',figsize=(20,5))"
      ],
      "execution_count": 17,
      "outputs": [
        {
          "output_type": "execute_result",
          "data": {
            "text/plain": [
              "<matplotlib.axes._subplots.AxesSubplot at 0x7f476c74fe48>"
            ]
          },
          "metadata": {
            "tags": []
          },
          "execution_count": 17
        },
        {
          "output_type": "display_data",
          "data": {
            "image/png": "[encoded data removed]",
            "text/plain": [
              "<Figure size 1440x360 with 1 Axes>"
            ]
          },
          "metadata": {
            "tags": [],
            "needs_background": "light"
          }
        }
      ]
    },
    {
      "cell_type": "markdown",
      "metadata": {
        "id": "9DdyCS67KGcF",
        "colab_type": "text"
      },
      "source": [
        "### Bash / Shell / PowerShell"
      ]
    },
    {
      "cell_type": "code",
      "metadata": {
        "id": "jGbYx4PBKItL",
        "colab_type": "code",
        "colab": {
          "base_uri": "https://localhost:8080/",
          "height": 284
        },
        "outputId": "afa12d86-1a64-4d96-908a-6d300b0765ea"
      },
      "source": [
        "skills = [\"shell\", \"bash\", \"powershell\"]\n",
        "filter_series = result_series.filter(items=skills)\n",
        "filter_series.plot(kind='bar',figsize=(20,5))"
      ],
      "execution_count": 18,
      "outputs": [
        {
          "output_type": "execute_result",
          "data": {
            "text/plain": [
              "<matplotlib.axes._subplots.AxesSubplot at 0x7f476c6b06a0>"
            ]
          },
          "metadata": {
            "tags": []
          },
          "execution_count": 18
        },
        {
          "output_type": "display_data",
          "data": {
            "image/png": "[encoded data removed]",
            "text/plain": [
              "<Figure size 1440x360 with 1 Axes>"
            ]
          },
          "metadata": {
            "tags": [],
            "needs_background": "light"
          }
        }
      ]
    },
    {
      "cell_type": "markdown",
      "metadata": {
        "id": "bvlG7WXkDaiL",
        "colab_type": "text"
      },
      "source": [
        "## **Summary**\n",
        "* Top Experience:\n",
        "  * Cloud: Azure\n",
        "  * Programming: Java & Python\n",
        "  * Web Frameworks: Angular\n",
        "  * Other Frameworks: Ansible\n",
        "  * Database: Oracle\n",
        "  * Platform: Docker & Linux\n",
        "  * Scripting: PowerShell\n",
        "\n",
        "\n",
        "* Top Money Stats:\n",
        "  * Average salary for DevOps is $61453.71\n",
        "\n",
        "  * The most common pay range is 125,000 - $140,000 a year\n",
        "\n",
        "* Top Companies:\n",
        "  * CapB Infotek & Moody's Corporation has the most job openings\n",
        "  * The top industries seem to be Finance and Tech\n",
        "\n",
        "* Top Locations:\n",
        "  * Philadelphia, PA  \n",
        "  * West Chester, PA\n",
        "  * NJ\n",
        "\n",
        "* Top Positions:\n",
        "  * DevOps Engineer\n",
        "  * Senior DevOps Engineer\n",
        "\n",
        "## **Conclusion**\n",
        "DevOps Engineers / Developers should focus on the Windows Stack: Azure, PowerShell, etc. Suprisingly, contrary to Data Science and Software Engineering, Azure beat AWS in DevOps. The two primary languages to learn are Java and Python. Suprised to see that Teraform is not mentioned at all. Knowing a Web Framework such as Angular will also be beneficial.\n",
        "\n",
        "DevOps Developers are somewhat underpaid in the Greater Philadelphia Area. The average base pay is lower than what Glassdoor provides (93,583) at $61,453.71. This figure could also be a problem with the dataset, as there are not many open DevOps positions in the Greater Philadelphia Area.\n",
        "\n",
        "The top companies are CapB Infotek and Moody's Corporation. Industries seem to be pretty diverse, but common ones are Finance and Tech companies.\n",
        "\n",
        "As for locations, the city of Philadelphia has the most jobs. There are not many jobs outside of the city. The top suburb is West Chester, PA.\n",
        "\n",
        "The top detailed job titles are DevOps Engineer and Senior DevOps Engineer. I'm surprised to see that SRE did not make the list."
      ]
    }
  ]
}