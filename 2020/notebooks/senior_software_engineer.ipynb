{
  "nbformat": 4,
  "nbformat_minor": 0,
  "metadata": {
    "colab": {
      "name": "senior-software-engineer.ipynb",
      "provenance": []
    },
    "kernelspec": {
      "name": "python3",
      "display_name": "Python 3"
    }
  },
  "cells": [
    {
      "cell_type": "markdown",
      "metadata": {
        "id": "VIfzxBhX3IrC",
        "colab_type": "text"
      },
      "source": [
        "# **Senior Software Engineer Jobs in the Greater Philadelphia Area**\n",
        "\n",
        "## Objective\n",
        "Analyze the job postings to determine:\n",
        "\n",
        "1. Desired skills and experience.\n",
        "2. Payscale for Senior Developers in this area.\n",
        "3. What company has the most postings.\n",
        "4. Areas outside of the city with the most postings.\n",
        "5. Variations in job title.\n",
        "\n",
        "## Understanding the Column Data\n",
        "* Title: job title\n",
        "* Company: name of company\n",
        "* Salary: if a salary is listed, it is provided here\n",
        "* Description: the job description / details of position"
      ]
    },
    {
      "cell_type": "markdown",
      "metadata": {
        "id": "n6aMnC7I3pM2",
        "colab_type": "text"
      },
      "source": [
        "## **Code**"
      ]
    },
    {
      "cell_type": "markdown",
      "metadata": {
        "id": "cxXtw01Ika7Y",
        "colab_type": "text"
      },
      "source": [
        "### Dataset"
      ]
    },
    {
      "cell_type": "code",
      "metadata": {
        "id": "HnQLm7hPtlPm",
        "colab_type": "code",
        "colab": {
          "base_uri": "https://localhost:8080/",
          "height": 122
        },
        "outputId": "3e94597a-b8bc-4c4b-a429-3241a7db5f32"
      },
      "source": [
        "from google.colab import drive\n",
        "drive.mount('/content/drive')"
      ],
      "execution_count": null,
      "outputs": [
        {
          "output_type": "stream",
          "text": [
            "Go to this URL in a browser: https://accounts.google.com/o/oauth2/auth?client_id=947318989803-6bn6qk8qdgf4n4g3pfee6491hc0brc4i.apps.googleusercontent.com&redirect_uri=urn%3aietf%3awg%3aoauth%3a2.0%3aoob&response_type=code&scope=email%20https%3a%2f%2fwww.googleapis.com%2fauth%2fdocs.test%20https%3a%2f%2fwww.googleapis.com%2fauth%2fdrive%20https%3a%2f%2fwww.googleapis.com%2fauth%2fdrive.photos.readonly%20https%3a%2f%2fwww.googleapis.com%2fauth%2fpeopleapi.readonly\n",
            "\n",
            "Enter your authorization code:\n",
            "··········\n",
            "Mounted at /content/drive\n"
          ],
          "name": "stdout"
        }
      ]
    },
    {
      "cell_type": "code",
      "metadata": {
        "id": "ujl7frM4tnnE",
        "colab_type": "code",
        "colab": {
          "base_uri": "https://localhost:8080/",
          "height": 102
        },
        "outputId": "168c7cd0-46f9-4d87-fc32-2041c7d28cea"
      },
      "source": [
        "import pandas as pd\n",
        "import numpy as np\n",
        "import matplotlib.pyplot as plt\n",
        "import nltk\n",
        "from nltk import word_tokenize\n",
        "from nltk.corpus import stopwords\n",
        "from collections import Counter\n",
        "\n",
        "nltk.download('stopwords')\n",
        "nltk.download('punkt')"
      ],
      "execution_count": null,
      "outputs": [
        {
          "output_type": "stream",
          "text": [
            "[nltk_data] Downloading package stopwords to /root/nltk_data...\n",
            "[nltk_data]   Package stopwords is already up-to-date!\n",
            "[nltk_data] Downloading package punkt to /root/nltk_data...\n",
            "[nltk_data]   Package punkt is already up-to-date!\n"
          ],
          "name": "stdout"
        },
        {
          "output_type": "execute_result",
          "data": {
            "text/plain": [
              "True"
            ]
          },
          "metadata": {
            "tags": []
          },
          "execution_count": 26
        }
      ]
    },
    {
      "cell_type": "code",
      "metadata": {
        "id": "_KGEtGKKtpUX",
        "colab_type": "code",
        "colab": {
          "base_uri": "https://localhost:8080/",
          "height": 357
        },
        "outputId": "cbbc0869-13cd-4bbf-9459-8275fccb963c"
      },
      "source": [
        "csv = '/content/drive/My Drive/datasets/indeed/senior-software-engineer.csv'\n",
        "df = pd.read_csv(csv)\n",
        "df.head()"
      ],
      "execution_count": null,
      "outputs": [
        {
          "output_type": "execute_result",
          "data": {
            "text/html": [
              "<div>\n",
              "<style scoped>\n",
              "    .dataframe tbody tr th:only-of-type {\n",
              "        vertical-align: middle;\n",
              "    }\n",
              "\n",
              "    .dataframe tbody tr th {\n",
              "        vertical-align: top;\n",
              "    }\n",
              "\n",
              "    .dataframe thead th {\n",
              "        text-align: right;\n",
              "    }\n",
              "</style>\n",
              "<table border=\"1\" class=\"dataframe\">\n",
              "  <thead>\n",
              "    <tr style=\"text-align: right;\">\n",
              "      <th></th>\n",
              "      <th>Title</th>\n",
              "      <th>Company</th>\n",
              "      <th>Location</th>\n",
              "      <th>Salary</th>\n",
              "      <th>Description</th>\n",
              "    </tr>\n",
              "  </thead>\n",
              "  <tbody>\n",
              "    <tr>\n",
              "      <th>0</th>\n",
              "      <td>Senior Full Stack JavaScript Software Engineer</td>\n",
              "      <td>ZenQMS</td>\n",
              "      <td>Ardmore, PA 19003</td>\n",
              "      <td>$115,000 - $135,000 a year</td>\n",
              "      <td>ZenQMS’ product development team is looking fo...</td>\n",
              "    </tr>\n",
              "    <tr>\n",
              "      <th>1</th>\n",
              "      <td>Senior Software Engineer</td>\n",
              "      <td>Cox IT Global / Veteran's Engineering</td>\n",
              "      <td>Philadelphia, PA 19107 (Washington Square area)</td>\n",
              "      <td>$90,000 - $120,000 a year</td>\n",
              "      <td>U.S. citizenship is required for working this ...</td>\n",
              "    </tr>\n",
              "    <tr>\n",
              "      <th>2</th>\n",
              "      <td>Sr. Python Software Engineer (Clean Tech job)</td>\n",
              "      <td>UtilityAPI</td>\n",
              "      <td>United States</td>\n",
              "      <td>$110,000 - $130,000 a year</td>\n",
              "      <td>This is the application for a Senior Python so...</td>\n",
              "    </tr>\n",
              "    <tr>\n",
              "      <th>3</th>\n",
              "      <td>Senior Software Engineer at Einstein Medical C...</td>\n",
              "      <td>Cerner</td>\n",
              "      <td>Philadelphia, PA</td>\n",
              "      <td>None</td>\n",
              "      <td>Senior Software Engineer at Einstein Medical C...</td>\n",
              "    </tr>\n",
              "    <tr>\n",
              "      <th>4</th>\n",
              "      <td>Frontend Developer - Senior</td>\n",
              "      <td>CTI LLC</td>\n",
              "      <td>Philadelphia, PA</td>\n",
              "      <td>$65 - $70 an hour</td>\n",
              "      <td>Role Description: Responsible for technical an...</td>\n",
              "    </tr>\n",
              "  </tbody>\n",
              "</table>\n",
              "</div>"
            ],
            "text/plain": [
              "                                               Title  ...                                        Description\n",
              "0     Senior Full Stack JavaScript Software Engineer  ...  ZenQMS’ product development team is looking fo...\n",
              "1                           Senior Software Engineer  ...  U.S. citizenship is required for working this ...\n",
              "2      Sr. Python Software Engineer (Clean Tech job)  ...  This is the application for a Senior Python so...\n",
              "3  Senior Software Engineer at Einstein Medical C...  ...  Senior Software Engineer at Einstein Medical C...\n",
              "4                        Frontend Developer - Senior  ...  Role Description: Responsible for technical an...\n",
              "\n",
              "[5 rows x 5 columns]"
            ]
          },
          "metadata": {
            "tags": []
          },
          "execution_count": 3
        }
      ]
    },
    {
      "cell_type": "markdown",
      "metadata": {
        "id": "E4WBUzRwa-iS",
        "colab_type": "text"
      },
      "source": [
        "## Job Titles"
      ]
    },
    {
      "cell_type": "code",
      "metadata": {
        "id": "xfcDrjpBttS6",
        "colab_type": "code",
        "colab": {
          "base_uri": "https://localhost:8080/",
          "height": 406
        },
        "outputId": "8de8ce0c-97ea-434d-f34f-5f8835e570bd"
      },
      "source": [
        "top_jobs = df.groupby(\"Title\").count()[\"Location\"].sort_values(ascending=False)[:20]\n",
        "top_jobs.plot(kind=\"bar\", figsize=(20,5))"
      ],
      "execution_count": null,
      "outputs": [
        {
          "output_type": "execute_result",
          "data": {
            "text/plain": [
              "<matplotlib.axes._subplots.AxesSubplot at 0x7f613f122048>"
            ]
          },
          "metadata": {
            "tags": []
          },
          "execution_count": 4
        },
        {
          "output_type": "display_data",
          "data": {
            "image/png": "[encoded data removed]",
            "text/plain": [
              "<Figure size 1440x360 with 1 Axes>"
            ]
          },
          "metadata": {
            "tags": [],
            "needs_background": "light"
          }
        }
      ]
    },
    {
      "cell_type": "markdown",
      "metadata": {
        "id": "evwpGR0BbH35",
        "colab_type": "text"
      },
      "source": [
        "## Companies"
      ]
    },
    {
      "cell_type": "code",
      "metadata": {
        "id": "XcRMFmwbtvGq",
        "colab_type": "code",
        "colab": {
          "base_uri": "https://localhost:8080/",
          "height": 368
        },
        "outputId": "277e49f9-3945-49fe-b451-a4a6551a75af"
      },
      "source": [
        "top_companies = df.groupby(\"Company\").count()[\"Title\"].sort_values(ascending=False)[:20]\n",
        "top_companies.plot(kind=\"bar\", figsize=(20,5))"
      ],
      "execution_count": null,
      "outputs": [
        {
          "output_type": "execute_result",
          "data": {
            "text/plain": [
              "<matplotlib.axes._subplots.AxesSubplot at 0x7f613f0341d0>"
            ]
          },
          "metadata": {
            "tags": []
          },
          "execution_count": 5
        },
        {
          "output_type": "display_data",
          "data": {
            "image/png": "[encoded data removed]",
            "text/plain": [
              "<Figure size 1440x360 with 1 Axes>"
            ]
          },
          "metadata": {
            "tags": [],
            "needs_background": "light"
          }
        }
      ]
    },
    {
      "cell_type": "markdown",
      "metadata": {
        "id": "GvcR3CVVbN2p",
        "colab_type": "text"
      },
      "source": [
        "## Locations"
      ]
    },
    {
      "cell_type": "code",
      "metadata": {
        "id": "m2u1aOGftxPs",
        "colab_type": "code",
        "colab": {
          "base_uri": "https://localhost:8080/",
          "height": 391
        },
        "outputId": "79c9392c-461f-480c-9ced-8276dc3c2e32"
      },
      "source": [
        "top_locations = df.groupby(\"Location\").count()[\"Title\"].sort_values(ascending=False)[:20]\n",
        "top_locations"
      ],
      "execution_count": null,
      "outputs": [
        {
          "output_type": "execute_result",
          "data": {
            "text/plain": [
              "Location\n",
              "Philadelphia, PA                                    47\n",
              "United States                                       35\n",
              "Philadelphia, PA 19103 (Logan Square area)          16\n",
              "Malvern, PA                                         12\n",
              "Philadelphia, PA 19107 (Washington Square area)     10\n",
              "Wilmington, DE                                       9\n",
              "Philadelphia, PA 19103 (Rittenhouse area)            9\n",
              "West Chester, PA                                     7\n",
              "Wayne, PA 19087                                      6\n",
              "Philadelphia, PA 19123 (Northern Liberties area)     6\n",
              "Conshohocken, PA 19428                               5\n",
              "King of Prussia, PA                                  5\n",
              "Wilmington, DE 19894                                 5\n",
              "Philadelphia, PA 19112 (Navy Yard area)              5\n",
              "Camden, NJ 08102 (Cooper Grant area)                 4\n",
              "Philadelphia, PA 19104 (University City area)        4\n",
              "Blue Bell, PA 19422                                  3\n",
              "King of Prussia, PA 19406                            3\n",
              "Wayne, PA                                            3\n",
              "Horsham, PA                                          3\n",
              "Name: Title, dtype: int64"
            ]
          },
          "metadata": {
            "tags": []
          },
          "execution_count": 6
        }
      ]
    },
    {
      "cell_type": "markdown",
      "metadata": {
        "id": "DAgt86HWbVm6",
        "colab_type": "text"
      },
      "source": [
        "## Salary"
      ]
    },
    {
      "cell_type": "code",
      "metadata": {
        "id": "PQNNIHRyugMp",
        "colab_type": "code",
        "colab": {
          "base_uri": "https://localhost:8080/",
          "height": 34
        },
        "outputId": "ac84f7a6-a1af-43f4-8e11-52422c1db478"
      },
      "source": [
        "def format_salary(row):\n",
        "    salary = row[\"Salary\"]\n",
        "    if \"-\" in salary:\n",
        "        split = salary.split(\"-\")\n",
        "        salary_min = split[0]\n",
        "        salary_max = split[1]\n",
        "    else:\n",
        "        salary_min = salary\n",
        "        salary_max = salary\n",
        "    \n",
        "    row[\"salary_min\"] = salary_min.replace(\"$\",\"\").replace(\"a month\",\"\").replace(\"a year\",\"\").replace(\",\",\"\")\n",
        "    row[\"salary_max\"] = salary_max.replace(\"\",\"\").replace(\"a month\",\"\").replace(\"a year\",\"\").replace(\",\",\"\")\n",
        "       \n",
        "    if \"month\" in row[\"Salary\"]:\n",
        "        row[\"salary_min\"] = int(row[\"salary_min\"])*12\n",
        "        row[\"salary_max\"] = int(row[\"salary_max\"])*12\n",
        "    \n",
        "   \n",
        "    return row\n",
        "\n",
        "\n",
        "df_salary = df[df[\"Salary\"]!= \"None\"].dropna()\n",
        "df_salary = df_salary.apply(format_salary,axis=1) \n",
        "\n",
        "df_salary[\"salary_min\"] = pd.to_numeric(df_salary[\"salary_min\"],'coerce')\n",
        "df_salary[\"salary_max\"] = pd.to_numeric(df_salary[\"salary_max\"],'coerce')\n",
        "\n",
        "df_salary[\"salary_min\"].mean()"
      ],
      "execution_count": null,
      "outputs": [
        {
          "output_type": "execute_result",
          "data": {
            "text/plain": [
              "92242.14666666667"
            ]
          },
          "metadata": {
            "tags": []
          },
          "execution_count": 7
        }
      ]
    },
    {
      "cell_type": "code",
      "metadata": {
        "id": "R7NRkFLGukwB",
        "colab_type": "code",
        "colab": {
          "base_uri": "https://localhost:8080/",
          "height": 391
        },
        "outputId": "116acb55-eaf4-45f2-9dcd-411714cea354"
      },
      "source": [
        "top_munnies = df.groupby(\"Salary\").count()[\"Title\"].sort_values(ascending=False)[:20]\n",
        "top_munnies"
      ],
      "execution_count": null,
      "outputs": [
        {
          "output_type": "execute_result",
          "data": {
            "text/plain": [
              "Salary\n",
              "None                          194\n",
              "$130,000 - $180,000 a year      6\n",
              "$100,000 - $130,000 a year      5\n",
              "$104,062 a year                 4\n",
              "$120,000 a year                 4\n",
              "$65 - $75 an hour               3\n",
              "$94,104 - $163,169 a year       3\n",
              "$90,000 - $120,000 a year       2\n",
              "$45 - $73 an hour               2\n",
              "$140,000 - $160,000 a year      2\n",
              "$80,000 - $110,000 a year       2\n",
              "$109,000 - $139,000 a year      2\n",
              "$150,000 - $185,000 a year      2\n",
              "$100,000 - $150,000 a year      2\n",
              "$135,000 - $175,000 a year      2\n",
              "$125,000 a year                 2\n",
              "$125,000 - $140,000 a year      2\n",
              "$88,282 a year                  2\n",
              "$50,000 - $60,000 a year        2\n",
              "$120,000 - $160,000 a year      1\n",
              "Name: Title, dtype: int64"
            ]
          },
          "metadata": {
            "tags": []
          },
          "execution_count": 8
        }
      ]
    },
    {
      "cell_type": "markdown",
      "metadata": {
        "id": "PZrytWazmNPX",
        "colab_type": "text"
      },
      "source": [
        "## Desired Experience"
      ]
    },
    {
      "cell_type": "code",
      "metadata": {
        "id": "FcEYXE3qum-O",
        "colab_type": "code",
        "colab": {}
      },
      "source": [
        "def cleanData(desc):\n",
        "    desc = word_tokenize(desc)\n",
        "    desc = [word.lower() for word in desc]\n",
        "    desc = [word for word in desc if word not in stop_words]\n",
        "    return desc"
      ],
      "execution_count": null,
      "outputs": []
    },
    {
      "cell_type": "code",
      "metadata": {
        "id": "QVPfWNxWupj0",
        "colab_type": "code",
        "colab": {}
      },
      "source": [
        "stop_words = stopwords.words('english')\n",
        "tags_df = df[\"Description\"].apply(cleanData)\n",
        "result = tags_df.apply(Counter).sum().items()\n",
        "result = sorted(result, key=lambda kv: kv[1],reverse=True)\n",
        "result_series = pd.Series({k: v for k, v in result})"
      ],
      "execution_count": null,
      "outputs": []
    },
    {
      "cell_type": "markdown",
      "metadata": {
        "id": "2Nuta3bTyX6_",
        "colab_type": "text"
      },
      "source": [
        "### Cloud"
      ]
    },
    {
      "cell_type": "code",
      "metadata": {
        "id": "RpR3xJV-ut6I",
        "colab_type": "code",
        "colab": {
          "base_uri": "https://localhost:8080/",
          "height": 265
        },
        "outputId": "decfde49-c6ad-439d-ae53-7df075c22e60"
      },
      "source": [
        "skills = [\"aws\",\"azure\"]\n",
        "filter_series = result_series.filter(items=skills)\n",
        "filter_series.plot(kind='bar',figsize=(20,5))"
      ],
      "execution_count": null,
      "outputs": [
        {
          "output_type": "execute_result",
          "data": {
            "text/plain": [
              "<matplotlib.axes._subplots.AxesSubplot at 0x7f613e3b0c50>"
            ]
          },
          "metadata": {
            "tags": []
          },
          "execution_count": 11
        },
        {
          "output_type": "display_data",
          "data": {
            "image/png": "[encoded data removed]",
            "text/plain": [
              "<Figure size 1440x360 with 1 Axes>"
            ]
          },
          "metadata": {
            "tags": [],
            "needs_background": "light"
          }
        }
      ]
    },
    {
      "cell_type": "markdown",
      "metadata": {
        "id": "5W7RVombzqWv",
        "colab_type": "text"
      },
      "source": [
        "### Programming, Scripting, and Markup Languages"
      ]
    },
    {
      "cell_type": "code",
      "metadata": {
        "id": "oMwnXk78uv1n",
        "colab_type": "code",
        "colab": {
          "base_uri": "https://localhost:8080/",
          "height": 397
        },
        "outputId": "83c8544e-3443-4d22-d859-0ba59b4b45e4"
      },
      "source": [
        "skills = [\"java\", \"javascript\", \"c#\", \"sql\", \"python\", \"css\", \"html\", \"c++\", \"php\", \"typescript\"]\n",
        "filter_series = result_series.filter(items=skills)\n",
        "filter_series.plot(kind='bar',figsize=(20,5))"
      ],
      "execution_count": null,
      "outputs": [
        {
          "output_type": "execute_result",
          "data": {
            "text/plain": [
              "<matplotlib.axes._subplots.AxesSubplot at 0x7f613e2d63c8>"
            ]
          },
          "metadata": {
            "tags": []
          },
          "execution_count": 12
        },
        {
          "output_type": "display_data",
          "data": {
            "image/png": "[encoded data removed]",
            "text/plain": [
              "<Figure size 1440x360 with 1 Axes>"
            ]
          },
          "metadata": {
            "tags": [],
            "needs_background": "light"
          }
        }
      ]
    },
    {
      "cell_type": "markdown",
      "metadata": {
        "id": "293IRFG8z6r4",
        "colab_type": "text"
      },
      "source": [
        "### Web Frameworks"
      ]
    },
    {
      "cell_type": "code",
      "metadata": {
        "id": "vVTveLFIwT6j",
        "colab_type": "code",
        "colab": {
          "base_uri": "https://localhost:8080/",
          "height": 274
        },
        "outputId": "bf4fab1e-b0f2-44b0-842e-4a5f3cc0e337"
      },
      "source": [
        "skills = [\"jquery\", \"react\", \"angular\", \"asp.net\", \"express\", \"vue\", \"spring\", \"flask\", \"django\", \"laravel\"]\n",
        "filter_series = result_series.filter(items=skills)\n",
        "filter_series.plot(kind='bar',figsize=(20,5))"
      ],
      "execution_count": null,
      "outputs": [
        {
          "output_type": "execute_result",
          "data": {
            "text/plain": [
              "<matplotlib.axes._subplots.AxesSubplot at 0x7f613e2252e8>"
            ]
          },
          "metadata": {
            "tags": []
          },
          "execution_count": 13
        },
        {
          "output_type": "display_data",
          "data": {
            "image/png": "[encoded data removed]",
            "text/plain": [
              "<Figure size 1440x360 with 1 Axes>"
            ]
          },
          "metadata": {
            "tags": [],
            "needs_background": "light"
          }
        }
      ]
    },
    {
      "cell_type": "markdown",
      "metadata": {
        "id": "5lAa-tEqz_Q5",
        "colab_type": "text"
      },
      "source": [
        "### Frameworks, Libraries, and Tools"
      ]
    },
    {
      "cell_type": "code",
      "metadata": {
        "id": "G11uFwBGxi76",
        "colab_type": "code",
        "colab": {
          "base_uri": "https://localhost:8080/",
          "height": 275
        },
        "outputId": "d3ca858e-1add-4e35-d703-817dcfd941e9"
      },
      "source": [
        "skills = [\"node.js\", \".net\", \"flutter\", \"xamarin\"]\n",
        "filter_series = result_series.filter(items=skills)\n",
        "filter_series.plot(kind='bar',figsize=(20,5))"
      ],
      "execution_count": null,
      "outputs": [
        {
          "output_type": "execute_result",
          "data": {
            "text/plain": [
              "<matplotlib.axes._subplots.AxesSubplot at 0x7f613e1d3eb8>"
            ]
          },
          "metadata": {
            "tags": []
          },
          "execution_count": 14
        },
        {
          "output_type": "display_data",
          "data": {
            "image/png": "[encoded data removed]",
            "text/plain": [
              "<Figure size 1440x360 with 1 Axes>"
            ]
          },
          "metadata": {
            "tags": [],
            "needs_background": "light"
          }
        }
      ]
    },
    {
      "cell_type": "markdown",
      "metadata": {
        "id": "KJvBJnNn0Gys",
        "colab_type": "text"
      },
      "source": [
        "### Databases"
      ]
    },
    {
      "cell_type": "code",
      "metadata": {
        "id": "EhriBQrJyTmR",
        "colab_type": "code",
        "colab": {
          "base_uri": "https://localhost:8080/",
          "height": 284
        },
        "outputId": "92e68172-3172-45cb-fad9-38c87624e2dd"
      },
      "source": [
        "skills = [\"mysql\", \"postgresql\", \"sqlite\", \"mongodb\", \"oracle\"]\n",
        "filter_series = result_series.filter(items=skills)\n",
        "filter_series.plot(kind='bar',figsize=(20,5))"
      ],
      "execution_count": null,
      "outputs": [
        {
          "output_type": "execute_result",
          "data": {
            "text/plain": [
              "<matplotlib.axes._subplots.AxesSubplot at 0x7f613e185ba8>"
            ]
          },
          "metadata": {
            "tags": []
          },
          "execution_count": 15
        },
        {
          "output_type": "display_data",
          "data": {
            "image/png": "[encoded data removed]",
            "text/plain": [
              "<Figure size 1440x360 with 1 Axes>"
            ]
          },
          "metadata": {
            "tags": [],
            "needs_background": "light"
          }
        }
      ]
    },
    {
      "cell_type": "markdown",
      "metadata": {
        "id": "mC3zvAqH0oQ8",
        "colab_type": "text"
      },
      "source": [
        "### Platforms"
      ]
    },
    {
      "cell_type": "code",
      "metadata": {
        "id": "xdPPORid0qVz",
        "colab_type": "code",
        "colab": {
          "base_uri": "https://localhost:8080/",
          "height": 283
        },
        "outputId": "4cfa0f08-eeff-46b3-acf7-8d1b9344ebd2"
      },
      "source": [
        "skills = [\"linux\", \"windows\", \"macos\", \"ios\", \"android\", \"docker\", \"wordpress\"]\n",
        "filter_series = result_series.filter(items=skills)\n",
        "filter_series.plot(kind='bar',figsize=(20,5))"
      ],
      "execution_count": null,
      "outputs": [
        {
          "output_type": "execute_result",
          "data": {
            "text/plain": [
              "<matplotlib.axes._subplots.AxesSubplot at 0x7f613e0f3a20>"
            ]
          },
          "metadata": {
            "tags": []
          },
          "execution_count": 16
        },
        {
          "output_type": "display_data",
          "data": {
            "image/png": "[encoded data removed]",
            "text/plain": [
              "<Figure size 1440x360 with 1 Axes>"
            ]
          },
          "metadata": {
            "tags": [],
            "needs_background": "light"
          }
        }
      ]
    },
    {
      "cell_type": "markdown",
      "metadata": {
        "id": "V0FzM4k9ljdM",
        "colab_type": "text"
      },
      "source": [
        "### Bash / Shell / PowerShell"
      ]
    },
    {
      "cell_type": "code",
      "metadata": {
        "id": "7Emfp457las7",
        "colab_type": "code",
        "colab": {
          "base_uri": "https://localhost:8080/",
          "height": 284
        },
        "outputId": "18a7862e-5292-4211-afcc-456455463c8a"
      },
      "source": [
        "skills = [\"shell\", \"bash\", \"powershell\"]\n",
        "filter_series = result_series.filter(items=skills)\n",
        "filter_series.plot(kind='bar',figsize=(20,5))"
      ],
      "execution_count": null,
      "outputs": [
        {
          "output_type": "execute_result",
          "data": {
            "text/plain": [
              "<matplotlib.axes._subplots.AxesSubplot at 0x7f613e04dc88>"
            ]
          },
          "metadata": {
            "tags": []
          },
          "execution_count": 17
        },
        {
          "output_type": "display_data",
          "data": {
            "image/png": "[encoded data removed]",
            "text/plain": [
              "<Figure size 1440x360 with 1 Axes>"
            ]
          },
          "metadata": {
            "tags": [],
            "needs_background": "light"
          }
        }
      ]
    },
    {
      "cell_type": "markdown",
      "metadata": {
        "id": "EvHiy_5B1b5s",
        "colab_type": "text"
      },
      "source": [
        "### Top Paying Languages (according to Stack Overflow)"
      ]
    },
    {
      "cell_type": "code",
      "metadata": {
        "id": "BTFLXV7i1glm",
        "colab_type": "code",
        "colab": {
          "base_uri": "https://localhost:8080/",
          "height": 266
        },
        "outputId": "33bdfbef-6eee-43dd-d79e-7630b21e7229"
      },
      "source": [
        "skills = [\"ruby\", \"scala\", \"kotlin\", \"perl\"]\n",
        "filter_series = result_series.filter(items=skills)\n",
        "filter_series.plot(kind='bar',figsize=(20,5))"
      ],
      "execution_count": null,
      "outputs": [
        {
          "output_type": "execute_result",
          "data": {
            "text/plain": [
              "<matplotlib.axes._subplots.AxesSubplot at 0x7f613eb84780>"
            ]
          },
          "metadata": {
            "tags": []
          },
          "execution_count": 18
        },
        {
          "output_type": "display_data",
          "data": {
            "image/png": "[encoded data removed]",
            "text/plain": [
              "<Figure size 1440x360 with 1 Axes>"
            ]
          },
          "metadata": {
            "tags": [],
            "needs_background": "light"
          }
        }
      ]
    },
    {
      "cell_type": "markdown",
      "metadata": {
        "id": "oCpl__052-DF",
        "colab_type": "text"
      },
      "source": [
        "## **Summary**\n",
        "* Top Experience: \n",
        "  * Programming: Java, [c#?]\n",
        "  * Cloud: AWS\n",
        "  * Web Frameworks: Angular & Spring\n",
        "  * Other Frameworks:.NET\n",
        "  * Database: Oracle\n",
        "  * Platform: Linux\n",
        "  * Scripting: Shell\n",
        "  * Niche Language: Ruby\n",
        "\n",
        "* Top Money Stats:\n",
        "  * Average salary for a Senior Software Developer is $92,242.15 \n",
        "\n",
        "  * The most common pay range is 130,000 - $180,000 a year\n",
        "\n",
        "* Top Companies:\n",
        "  * Vanguard has the most job openings\n",
        "  * The top industries seem to be Finance, Software Consulting\n",
        "\n",
        "* Top Locations:\n",
        "  * Malvern, PA\n",
        "  * West Chester, PA\n",
        "  * Wayne, PA \n",
        "\n",
        "* Top Positions:\n",
        "  * Senior Full Stack Developer\n",
        "  * Senior Security Software Engineer\n",
        "  * Senior Android/Linux Software Engineer\n",
        "\n",
        "## **Conclusion**\n",
        "Disregarding C# as it currently cannot be plotted, Software Engineers / Developers should focus on the Java and Spring stack. For frontend, Angular is currently more in demand than React. .NET has beat out Node.js. For cloud tech, focus on AWS over Azure. Linux and Shell scripting is in demand. As for higher paying niche languages, Ruby has the most openings, however, overall there are not many Ruby positions in the area.\n",
        "\n",
        "Senior Software Engineers / Developers are somewhat well paid in the Greater Philadelphia Area. The average base pay is strangely on par with Glassdoor at $92,242.15. However most ranges provided are over 100,000 dollars per year, so obtaining that looks like it is within reach with the right experience and skillset.\n",
        "\n",
        "The top company is Vanguard which is located in Malvern, PA which explains why Malvern is the number one location outside of Philadelphia. The top industries seem to be mainly Finance and Software Consulting. Having a financial background will benefit developers in this area.\n",
        "\n",
        "As for locations, the city of Philadelphia has the most jobs. If a developer is planning on working outside of the city, they will want to target and/or probably move to Chester County or Montgomery County. Tredyffrin Township is also a nearby area.\n",
        "\n",
        "The top detailed job titles are Senior Full Stack Developer, Senior Security Software Engineer, and Senior Android/Linux Software Engineer. A junior / mid-level developer will want to focus on Full Stack development to obtain senior roles."
      ]
    }
  ]
}