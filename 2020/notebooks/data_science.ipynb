{
  "nbformat": 4,
  "nbformat_minor": 0,
  "metadata": {
    "colab": {
      "name": "data-science.ipynb",
      "provenance": []
    },
    "kernelspec": {
      "name": "python3",
      "display_name": "Python 3"
    }
  },
  "cells": [
    {
      "cell_type": "markdown",
      "metadata": {
        "id": "zio-T-mHOVdd",
        "colab_type": "text"
      },
      "source": [
        "# **Data Science Jobs in the Greater Philadelphia Area**\n",
        "\n",
        "## Objective\n",
        "Analyze the job postings to determine:\n",
        "\n",
        "1. Desired skills and experience.\n",
        "2. Payscale for Data Science in this area.\n",
        "3. What company has the most postings.\n",
        "4. Areas outside of the city with the most postings.\n",
        "5. Variations in job title.\n",
        "\n",
        "## Understanding the Column Data\n",
        "* Title: job title\n",
        "* Company: name of company\n",
        "* Salary: if a salary is listed, it is provided here\n",
        "* Description: the job description / details of position"
      ]
    },
    {
      "cell_type": "markdown",
      "metadata": {
        "id": "acLrmh0yOj6J",
        "colab_type": "text"
      },
      "source": [
        "## **Code**"
      ]
    },
    {
      "cell_type": "markdown",
      "metadata": {
        "id": "qlcjfrGNOl26",
        "colab_type": "text"
      },
      "source": [
        "### Dataset"
      ]
    },
    {
      "cell_type": "code",
      "metadata": {
        "id": "Z246YJzygTRo",
        "colab_type": "code",
        "colab": {
          "base_uri": "https://localhost:8080/",
          "height": 122
        },
        "outputId": "ce6fe4d7-b927-4c48-c7ee-0358bd64b847"
      },
      "source": [
        "from google.colab import drive\n",
        "drive.mount('/content/drive')"
      ],
      "execution_count": 1,
      "outputs": [
        {
          "output_type": "stream",
          "text": [
            "Go to this URL in a browser: https://accounts.google.com/o/oauth2/auth?client_id=947318989803-6bn6qk8qdgf4n4g3pfee6491hc0brc4i.apps.googleusercontent.com&redirect_uri=urn%3aietf%3awg%3aoauth%3a2.0%3aoob&response_type=code&scope=email%20https%3a%2f%2fwww.googleapis.com%2fauth%2fdocs.test%20https%3a%2f%2fwww.googleapis.com%2fauth%2fdrive%20https%3a%2f%2fwww.googleapis.com%2fauth%2fdrive.photos.readonly%20https%3a%2f%2fwww.googleapis.com%2fauth%2fpeopleapi.readonly\n",
            "\n",
            "Enter your authorization code:\n",
            "··········\n",
            "Mounted at /content/drive\n"
          ],
          "name": "stdout"
        }
      ]
    },
    {
      "cell_type": "code",
      "metadata": {
        "id": "cHRMZwEThryQ",
        "colab_type": "code",
        "colab": {
          "base_uri": "https://localhost:8080/",
          "height": 102
        },
        "outputId": "c078ea74-0ee9-4616-c085-08ace7627190"
      },
      "source": [
        "import pandas as pd\n",
        "import numpy as np\n",
        "import matplotlib.pyplot as plt\n",
        "import nltk\n",
        "from nltk import word_tokenize\n",
        "from nltk.corpus import stopwords\n",
        "from collections import Counter\n",
        "\n",
        "nltk.download('stopwords')\n",
        "nltk.download('punkt')"
      ],
      "execution_count": 2,
      "outputs": [
        {
          "output_type": "stream",
          "text": [
            "[nltk_data] Downloading package stopwords to /root/nltk_data...\n",
            "[nltk_data]   Unzipping corpora/stopwords.zip.\n",
            "[nltk_data] Downloading package punkt to /root/nltk_data...\n",
            "[nltk_data]   Unzipping tokenizers/punkt.zip.\n"
          ],
          "name": "stdout"
        },
        {
          "output_type": "execute_result",
          "data": {
            "text/plain": [
              "True"
            ]
          },
          "metadata": {
            "tags": []
          },
          "execution_count": 2
        }
      ]
    },
    {
      "cell_type": "code",
      "metadata": {
        "id": "xANgQaRGhUvL",
        "colab_type": "code",
        "colab": {
          "base_uri": "https://localhost:8080/",
          "height": 289
        },
        "outputId": "7eba2e28-efb4-4ae5-e2fe-a33ec58a3ceb"
      },
      "source": [
        "csv = '/content/drive/My Drive/datasets/indeed/data-science.csv'\n",
        "df = pd.read_csv(csv)\n",
        "df.head()"
      ],
      "execution_count": 3,
      "outputs": [
        {
          "output_type": "execute_result",
          "data": {
            "text/html": [
              "<div>\n",
              "<style scoped>\n",
              "    .dataframe tbody tr th:only-of-type {\n",
              "        vertical-align: middle;\n",
              "    }\n",
              "\n",
              "    .dataframe tbody tr th {\n",
              "        vertical-align: top;\n",
              "    }\n",
              "\n",
              "    .dataframe thead th {\n",
              "        text-align: right;\n",
              "    }\n",
              "</style>\n",
              "<table border=\"1\" class=\"dataframe\">\n",
              "  <thead>\n",
              "    <tr style=\"text-align: right;\">\n",
              "      <th></th>\n",
              "      <th>Title</th>\n",
              "      <th>Company</th>\n",
              "      <th>Location</th>\n",
              "      <th>Salary</th>\n",
              "      <th>Description</th>\n",
              "    </tr>\n",
              "  </thead>\n",
              "  <tbody>\n",
              "    <tr>\n",
              "      <th>0</th>\n",
              "      <td>Data Engineer</td>\n",
              "      <td>NSM Insurance Group</td>\n",
              "      <td>Conshohocken, PA 19428</td>\n",
              "      <td>None</td>\n",
              "      <td>Overview:\\nThe NSM Insurance Group’s Strategic...</td>\n",
              "    </tr>\n",
              "    <tr>\n",
              "      <th>1</th>\n",
              "      <td>Jr. Big Data Engineer</td>\n",
              "      <td>Enhance IT</td>\n",
              "      <td>Pennsylvania</td>\n",
              "      <td>None</td>\n",
              "      <td>Big Data Engineer\\nFull-Time. Multiple Locatio...</td>\n",
              "    </tr>\n",
              "    <tr>\n",
              "      <th>2</th>\n",
              "      <td>Data Engineer</td>\n",
              "      <td>ClientSolv Technologies</td>\n",
              "      <td>Philadelphia, PA</td>\n",
              "      <td>$55 - $65 an hour</td>\n",
              "      <td>ClientSolv Technologies is an IT solution firm...</td>\n",
              "    </tr>\n",
              "    <tr>\n",
              "      <th>3</th>\n",
              "      <td>Data Scientist</td>\n",
              "      <td>HSN</td>\n",
              "      <td>West Chester, PA</td>\n",
              "      <td>None</td>\n",
              "      <td>Our Data Scientist is responsible for in-depth...</td>\n",
              "    </tr>\n",
              "    <tr>\n",
              "      <th>4</th>\n",
              "      <td>Director Data Science</td>\n",
              "      <td>Penfield Search Partners</td>\n",
              "      <td>Philadelphia, PA</td>\n",
              "      <td>None</td>\n",
              "      <td>Responsibilities\\nGather data collection requi...</td>\n",
              "    </tr>\n",
              "  </tbody>\n",
              "</table>\n",
              "</div>"
            ],
            "text/plain": [
              "                   Title  ...                                        Description\n",
              "0          Data Engineer  ...  Overview:\\nThe NSM Insurance Group’s Strategic...\n",
              "1  Jr. Big Data Engineer  ...  Big Data Engineer\\nFull-Time. Multiple Locatio...\n",
              "2          Data Engineer  ...  ClientSolv Technologies is an IT solution firm...\n",
              "3         Data Scientist  ...  Our Data Scientist is responsible for in-depth...\n",
              "4  Director Data Science  ...  Responsibilities\\nGather data collection requi...\n",
              "\n",
              "[5 rows x 5 columns]"
            ]
          },
          "metadata": {
            "tags": []
          },
          "execution_count": 3
        }
      ]
    },
    {
      "cell_type": "markdown",
      "metadata": {
        "id": "s8PQ2Ea1Onwa",
        "colab_type": "text"
      },
      "source": [
        "## Job Titles"
      ]
    },
    {
      "cell_type": "code",
      "metadata": {
        "id": "Qsidc77Bmh5E",
        "colab_type": "code",
        "colab": {
          "base_uri": "https://localhost:8080/",
          "height": 474
        },
        "outputId": "2d284608-bb3e-4e18-ae41-bd294b3ff060"
      },
      "source": [
        "top_jobs = df.groupby(\"Title\").count()[\"Company\"].sort_values(ascending=False)[:20]\n",
        "top_jobs.plot(kind=\"bar\", figsize=(20,5))"
      ],
      "execution_count": 4,
      "outputs": [
        {
          "output_type": "execute_result",
          "data": {
            "text/plain": [
              "<matplotlib.axes._subplots.AxesSubplot at 0x7fdd00127da0>"
            ]
          },
          "metadata": {
            "tags": []
          },
          "execution_count": 4
        },
        {
          "output_type": "display_data",
          "data": {
            "image/png": "[encoded data removed]",
            "text/plain": [
              "<Figure size 1440x360 with 1 Axes>"
            ]
          },
          "metadata": {
            "tags": [],
            "needs_background": "light"
          }
        }
      ]
    },
    {
      "cell_type": "markdown",
      "metadata": {
        "id": "CSvngW91OuAy",
        "colab_type": "text"
      },
      "source": [
        "## Companies"
      ]
    },
    {
      "cell_type": "code",
      "metadata": {
        "id": "SMzzq7ZeiOb6",
        "colab_type": "code",
        "colab": {
          "base_uri": "https://localhost:8080/",
          "height": 403
        },
        "outputId": "890f38c4-ba9c-4d37-ea82-eebd6a178f87"
      },
      "source": [
        "top_companies = df.groupby(\"Company\").count()[\"Title\"].sort_values(ascending=False)[:20]\n",
        "top_companies.plot(kind=\"bar\", figsize=(20,5))"
      ],
      "execution_count": 5,
      "outputs": [
        {
          "output_type": "execute_result",
          "data": {
            "text/plain": [
              "<matplotlib.axes._subplots.AxesSubplot at 0x7fdd00072ac8>"
            ]
          },
          "metadata": {
            "tags": []
          },
          "execution_count": 5
        },
        {
          "output_type": "display_data",
          "data": {
            "image/png": "[encoded data removed]",
            "text/plain": [
              "<Figure size 1440x360 with 1 Axes>"
            ]
          },
          "metadata": {
            "tags": [],
            "needs_background": "light"
          }
        }
      ]
    },
    {
      "cell_type": "markdown",
      "metadata": {
        "id": "YbqAqT97OwYk",
        "colab_type": "text"
      },
      "source": [
        "## Locations"
      ]
    },
    {
      "cell_type": "code",
      "metadata": {
        "id": "WiBUR4xBi3q8",
        "colab_type": "code",
        "colab": {
          "base_uri": "https://localhost:8080/",
          "height": 391
        },
        "outputId": "36f14e8d-ba2a-49ff-d41f-14477fe1f44c"
      },
      "source": [
        "top_locations = df.groupby(\"Location\").count()[\"Title\"].sort_values(ascending=False)[:20]\n",
        "top_locations"
      ],
      "execution_count": 6,
      "outputs": [
        {
          "output_type": "execute_result",
          "data": {
            "text/plain": [
              "Location\n",
              "Philadelphia, PA                                  40\n",
              "Wayne, PA 19087                                    9\n",
              "Philadelphia, PA 19103 (Logan Square area)         8\n",
              "Wilmington, DE                                     7\n",
              "Conshohocken, PA 19428                             6\n",
              "Collegeville, PA 19426                             6\n",
              "Philadelphia, PA 19107 (City Center East area)     5\n",
              "Philadelphia, PA 19112 (Navy Yard area)            5\n",
              "Wayne, PA                                          5\n",
              "Exton, PA                                          4\n",
              "Malvern, PA                                        4\n",
              "Plymouth Meeting, PA 19462                         4\n",
              "United States                                      4\n",
              "Fort Washington, PA 19034                          4\n",
              "Philadelphia, PA 19102 (City Center West area)     4\n",
              "West Point, PA                                     4\n",
              "Berwyn, PA 19312                                   4\n",
              "Ambler, PA 19002                                   3\n",
              "Radnor, PA 19087                                   3\n",
              "West Chester, PA                                   3\n",
              "Name: Title, dtype: int64"
            ]
          },
          "metadata": {
            "tags": []
          },
          "execution_count": 6
        }
      ]
    },
    {
      "cell_type": "markdown",
      "metadata": {
        "id": "BV8ydWVLOzNT",
        "colab_type": "text"
      },
      "source": [
        "## Salary"
      ]
    },
    {
      "cell_type": "code",
      "metadata": {
        "id": "G0vgxSsRkR0m",
        "colab_type": "code",
        "colab": {
          "base_uri": "https://localhost:8080/",
          "height": 34
        },
        "outputId": "6fb1101c-7343-4310-aaf2-96040e1163cc"
      },
      "source": [
        "def format_salary(row):\n",
        "    salary = row[\"Salary\"]\n",
        "    if \"-\" in salary:\n",
        "        split = salary.split(\"-\")\n",
        "        salary_min = split[0]\n",
        "        salary_max = split[1]\n",
        "    else:\n",
        "        salary_min = salary\n",
        "        salary_max = salary\n",
        "    \n",
        "    row[\"salary_min\"] = salary_min.replace(\"$\",\"\").replace(\"a month\",\"\").replace(\"a year\",\"\").replace(\",\",\"\")\n",
        "    row[\"salary_max\"] = salary_max.replace(\"\",\"\").replace(\"a month\",\"\").replace(\"a year\",\"\").replace(\",\",\"\")\n",
        "       \n",
        "    if \"month\" in row[\"Salary\"]:\n",
        "        row[\"salary_min\"] = int(row[\"salary_min\"])*12\n",
        "        row[\"salary_max\"] = int(row[\"salary_max\"])*12\n",
        "    \n",
        "   \n",
        "    return row\n",
        "\n",
        "\n",
        "df_salary = df[df[\"Salary\"]!= \"None\"].dropna()\n",
        "df_salary = df_salary.apply(format_salary,axis=1) \n",
        "\n",
        "df_salary[\"salary_min\"] = pd.to_numeric(df_salary[\"salary_min\"],'coerce')\n",
        "df_salary[\"salary_max\"] = pd.to_numeric(df_salary[\"salary_max\"],'coerce')\n",
        "\n",
        "df_salary[\"salary_min\"].mean()"
      ],
      "execution_count": 7,
      "outputs": [
        {
          "output_type": "execute_result",
          "data": {
            "text/plain": [
              "84326.2"
            ]
          },
          "metadata": {
            "tags": []
          },
          "execution_count": 7
        }
      ]
    },
    {
      "cell_type": "code",
      "metadata": {
        "id": "5qfTiQrroHmj",
        "colab_type": "code",
        "colab": {
          "base_uri": "https://localhost:8080/",
          "height": 204
        },
        "outputId": "0e244f32-6166-47e8-bcad-f65430540ed0"
      },
      "source": [
        "top_munnies = df.groupby(\"Salary\").count()[\"Title\"].sort_values(ascending=False)[:20]\n",
        "top_munnies"
      ],
      "execution_count": 8,
      "outputs": [
        {
          "output_type": "execute_result",
          "data": {
            "text/plain": [
              "Salary\n",
              "None                          154\n",
              "$145,000 a year                 9\n",
              "$80 - $115 an hour              4\n",
              "$107,000 - $130,000 a year      3\n",
              "From $85,000 a year             1\n",
              "$75 - $85 an hour               1\n",
              "$74 - $76 an hour               1\n",
              "$60,000 - $80,000 a year        1\n",
              "$55 - $65 an hour               1\n",
              "Name: Title, dtype: int64"
            ]
          },
          "metadata": {
            "tags": []
          },
          "execution_count": 8
        }
      ]
    },
    {
      "cell_type": "markdown",
      "metadata": {
        "id": "4o5k4b0HO1gX",
        "colab_type": "text"
      },
      "source": [
        "## Desired Experience"
      ]
    },
    {
      "cell_type": "code",
      "metadata": {
        "id": "JME8KKWmokxx",
        "colab_type": "code",
        "colab": {}
      },
      "source": [
        "def cleanData(desc):\n",
        "    desc = word_tokenize(desc)\n",
        "    desc = [word.lower() for word in desc if word.isalpha()]\n",
        "    desc = [word for word in desc if word not in stop_words]\n",
        "    return desc"
      ],
      "execution_count": 20,
      "outputs": []
    },
    {
      "cell_type": "code",
      "metadata": {
        "id": "-WupjlwcqGUW",
        "colab_type": "code",
        "colab": {}
      },
      "source": [
        "stop_words = stopwords.words('english')\n",
        "tags_df = df[\"Description\"].apply(cleanData)\n",
        "result = tags_df.apply(Counter).sum().items()\n",
        "result = sorted(result, key=lambda kv: kv[1],reverse=True)\n",
        "result_series = pd.Series({k: v for k, v in result})\n"
      ],
      "execution_count": 21,
      "outputs": []
    },
    {
      "cell_type": "markdown",
      "metadata": {
        "id": "yWZj5nEhPCWC",
        "colab_type": "text"
      },
      "source": [
        "### Visualization"
      ]
    },
    {
      "cell_type": "code",
      "metadata": {
        "id": "Gy4LZcJ7O6z4",
        "colab_type": "code",
        "colab": {
          "base_uri": "https://localhost:8080/",
          "height": 273
        },
        "outputId": "a68d8371-eb79-4ec9-d60e-e3f21926a73f"
      },
      "source": [
        "skills = [\"tableau\",\"power\",\"qlik\"]\n",
        "filter_series = result_series.filter(items=skills)\n",
        "filter_series.plot(kind='bar',figsize=(20,5))"
      ],
      "execution_count": 16,
      "outputs": [
        {
          "output_type": "execute_result",
          "data": {
            "text/plain": [
              "<matplotlib.axes._subplots.AxesSubplot at 0x7fdcff5b3d30>"
            ]
          },
          "metadata": {
            "tags": []
          },
          "execution_count": 16
        },
        {
          "output_type": "display_data",
          "data": {
            "image/png": "[encoded data removed]",
            "text/plain": [
              "<Figure size 1440x360 with 1 Axes>"
            ]
          },
          "metadata": {
            "tags": [],
            "needs_background": "light"
          }
        }
      ]
    },
    {
      "cell_type": "markdown",
      "metadata": {
        "id": "303sekhdPGJQ",
        "colab_type": "text"
      },
      "source": [
        "### Libraries"
      ]
    },
    {
      "cell_type": "code",
      "metadata": {
        "id": "BosdMIcQqs7u",
        "colab_type": "code",
        "colab": {
          "base_uri": "https://localhost:8080/",
          "height": 284
        },
        "outputId": "2a0e59d5-f1e8-4576-eba8-60979a3c1872"
      },
      "source": [
        "skills = [\"nltk\",\"pandas\",\"numpy\",\"matplotlib\",\"jupyter\",\"opencv\"]\n",
        "filter_series = result_series.filter(items=skills)\n",
        "filter_series.plot(kind='bar',figsize=(20,5))"
      ],
      "execution_count": 11,
      "outputs": [
        {
          "output_type": "execute_result",
          "data": {
            "text/plain": [
              "<matplotlib.axes._subplots.AxesSubplot at 0x7fdd00178f98>"
            ]
          },
          "metadata": {
            "tags": []
          },
          "execution_count": 11
        },
        {
          "output_type": "display_data",
          "data": {
            "image/png": "[encoded data removed]",
            "text/plain": [
              "<Figure size 1440x360 with 1 Axes>"
            ]
          },
          "metadata": {
            "tags": [],
            "needs_background": "light"
          }
        }
      ]
    },
    {
      "cell_type": "markdown",
      "metadata": {
        "id": "Cv6SMDwzPJsc",
        "colab_type": "text"
      },
      "source": [
        "### Keywords"
      ]
    },
    {
      "cell_type": "code",
      "metadata": {
        "id": "6UWaYKD0q3gM",
        "colab_type": "code",
        "colab": {
          "base_uri": "https://localhost:8080/",
          "height": 283
        },
        "outputId": "8b074c42-6e7c-4fcd-c180-7469ac4abdc1"
      },
      "source": [
        "skills = [\"statistics\",\"machine\",\"deep\",\"neural\",\"predictive\"]\n",
        "filter_series = result_series.filter(items=skills)\n",
        "filter_series.plot(kind='bar',figsize=(20,5))"
      ],
      "execution_count": 12,
      "outputs": [
        {
          "output_type": "execute_result",
          "data": {
            "text/plain": [
              "<matplotlib.axes._subplots.AxesSubplot at 0x7fdcff4e6550>"
            ]
          },
          "metadata": {
            "tags": []
          },
          "execution_count": 12
        },
        {
          "output_type": "display_data",
          "data": {
            "image/png": "[encoded data removed]",
            "text/plain": [
              "<Figure size 1440x360 with 1 Axes>"
            ]
          },
          "metadata": {
            "tags": [],
            "needs_background": "light"
          }
        }
      ]
    },
    {
      "cell_type": "markdown",
      "metadata": {
        "id": "UxYhuRYiPMKf",
        "colab_type": "text"
      },
      "source": [
        "### Cloud"
      ]
    },
    {
      "cell_type": "code",
      "metadata": {
        "id": "ac9_qOupq-ka",
        "colab_type": "code",
        "colab": {
          "base_uri": "https://localhost:8080/",
          "height": 266
        },
        "outputId": "8e5b497a-f0d4-45e3-dfb4-aae48d166a4c"
      },
      "source": [
        "skills = [\"aws\",\"azure\"]\n",
        "filter_series = result_series.filter(items=skills)\n",
        "filter_series.plot(kind='bar',figsize=(20,5))"
      ],
      "execution_count": 13,
      "outputs": [
        {
          "output_type": "execute_result",
          "data": {
            "text/plain": [
              "<matplotlib.axes._subplots.AxesSubplot at 0x7fdcff4398d0>"
            ]
          },
          "metadata": {
            "tags": []
          },
          "execution_count": 13
        },
        {
          "output_type": "display_data",
          "data": {
            "image/png": "[encoded data removed]",
            "text/plain": [
              "<Figure size 1440x360 with 1 Axes>"
            ]
          },
          "metadata": {
            "tags": [],
            "needs_background": "light"
          }
        }
      ]
    },
    {
      "cell_type": "markdown",
      "metadata": {
        "id": "2Vc9_oHnPPJQ",
        "colab_type": "text"
      },
      "source": [
        "### Programming, Scripting, and Markup Languages"
      ]
    },
    {
      "cell_type": "code",
      "metadata": {
        "id": "jt7yHnles0Ex",
        "colab_type": "code",
        "colab": {
          "base_uri": "https://localhost:8080/",
          "height": 270
        },
        "outputId": "1d595f3f-73ae-422c-b9b3-547ab1e71fe2"
      },
      "source": [
        "skills = [\"python\", \"r\", \"sql\",  \"java\", ]\n",
        "filter_series = result_series.filter(items=skills)\n",
        "filter_series.plot(kind='bar',figsize=(20,5))"
      ],
      "execution_count": 22,
      "outputs": [
        {
          "output_type": "execute_result",
          "data": {
            "text/plain": [
              "<matplotlib.axes._subplots.AxesSubplot at 0x7fdcff5beb00>"
            ]
          },
          "metadata": {
            "tags": []
          },
          "execution_count": 22
        },
        {
          "output_type": "display_data",
          "data": {
            "image/png": "[encoded data removed]",
            "text/plain": [
              "<Figure size 1440x360 with 1 Axes>"
            ]
          },
          "metadata": {
            "tags": [],
            "needs_background": "light"
          }
        }
      ]
    },
    {
      "cell_type": "markdown",
      "metadata": {
        "id": "2HGyP4kOPR_d",
        "colab_type": "text"
      },
      "source": [
        "### Platforms"
      ]
    },
    {
      "cell_type": "code",
      "metadata": {
        "id": "bUHnxPC9PVvn",
        "colab_type": "code",
        "colab": {
          "base_uri": "https://localhost:8080/",
          "height": 278
        },
        "outputId": "97473c68-0e55-4a9d-86db-8dc47c7c5966"
      },
      "source": [
        "skills = [\"linux\", \"windows\", \"macos\",\"docker\"]\n",
        "filter_series = result_series.filter(items=skills)\n",
        "filter_series.plot(kind='bar',figsize=(20,5))"
      ],
      "execution_count": 18,
      "outputs": [
        {
          "output_type": "execute_result",
          "data": {
            "text/plain": [
              "<matplotlib.axes._subplots.AxesSubplot at 0x7fdcff5fb748>"
            ]
          },
          "metadata": {
            "tags": []
          },
          "execution_count": 18
        },
        {
          "output_type": "display_data",
          "data": {
            "image/png": "[encoded data removed]",
            "text/plain": [
              "<Figure size 1440x360 with 1 Axes>"
            ]
          },
          "metadata": {
            "tags": [],
            "needs_background": "light"
          }
        }
      ]
    },
    {
      "cell_type": "markdown",
      "metadata": {
        "id": "OIlRL9AFPbbV",
        "colab_type": "text"
      },
      "source": [
        "### Bash / Shell / PowerShell"
      ]
    },
    {
      "cell_type": "code",
      "metadata": {
        "id": "dXFq1_NNPeG_",
        "colab_type": "code",
        "colab": {
          "base_uri": "https://localhost:8080/",
          "height": 287
        },
        "outputId": "02ea58e4-3779-448c-d28e-d380ba34fee9"
      },
      "source": [
        "skills = [\"shell\", \"bash\", \"powershell\"]\n",
        "filter_series = result_series.filter(items=skills)\n",
        "filter_series.plot(kind='bar',figsize=(20,5))"
      ],
      "execution_count": 19,
      "outputs": [
        {
          "output_type": "execute_result",
          "data": {
            "text/plain": [
              "<matplotlib.axes._subplots.AxesSubplot at 0x7fdcff4e6cf8>"
            ]
          },
          "metadata": {
            "tags": []
          },
          "execution_count": 19
        },
        {
          "output_type": "display_data",
          "data": {
            "image/png": "[encoded data removed]",
            "text/plain": [
              "<Figure size 1440x360 with 1 Axes>"
            ]
          },
          "metadata": {
            "tags": [],
            "needs_background": "light"
          }
        }
      ]
    },
    {
      "cell_type": "markdown",
      "metadata": {
        "id": "BTsLTvYlPiS7",
        "colab_type": "text"
      },
      "source": [
        "## **Summary**\n",
        "* Top Experience: \n",
        "  * Tableau\n",
        "  * Numpy\n",
        "  * Machine\n",
        "  * AWS\n",
        "  * Python\n",
        "  * Linux\n",
        "  * Bash\n",
        "\n",
        "\n",
        "* Top Money Stats:\n",
        "  * Average salary for a Senior Software Developer is $84,326.20\n",
        "\n",
        "  * The most common pay range is $145,000 a year\n",
        "\n",
        "* Top Companies:\n",
        "  * Day & Zimmermann\n",
        "  * GSK\n",
        "  * Comcast\n",
        "\n",
        "* Top Locations:\n",
        "  * Wayne, PA\n",
        "  * Conshohocken, PA\n",
        "  * Collegeville, PA\n",
        "\n",
        "* Top Positions:\n",
        "  * Data Scientist\n",
        "  * Data Engineer\n",
        "  * Lead Data Engineer / Data Scientist\n",
        "\n",
        "## **Conclusion**\n",
        "Individuals in Data Science should focus on Machine Learning, Tableau, Jupyter, Python, AWS, Linux and Bash. It also will be beneficial to know some Java, SQL, and Docker.\n",
        "\n",
        "Data Scientists / Engineers are are somewhat well paid in the Greater Philadelphia Area. The average base pay is $84,326.20 per year, which is lower than what Glassdoor provides (97,921). The most common pay range is 145,000 per year, so getting over 100,000 per year is achievable with the right experience and skillset.\n",
        "\n",
        "The top company is Day & Zimmermann, which operates in several fields including construction, engineering, and staffing. Overall, the top industries seem to be Research, Pharmaceutical, Telecommunications, and Finance. Having a background in Pharmaceuticals especially, or any other listed industries will benefit Data Scientists in the area.\n",
        "\n",
        "As for locations, the city of Philadelphia has the most jobs. If an indivdual is planning on working outside of the city, they will want to target Montgomery County.\n",
        "\n",
        "The top job titles are (generically) Data Scientist, Data Engineer, and Lead Data Scientist / Lead Data Engineer.\n"
      ]
    }
  ]
}